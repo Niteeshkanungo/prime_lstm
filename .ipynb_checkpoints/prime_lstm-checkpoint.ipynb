{
 "cells": [
  {
   "cell_type": "markdown",
   "metadata": {},
   "source": [
    "# A Basic LSTM model to map prime numbers"
   ]
  },
  {
   "cell_type": "code",
   "execution_count": 22,
   "metadata": {
    "colab": {},
    "colab_type": "code",
    "id": "mZeDQGMD5hgG"
   },
   "outputs": [],
   "source": [
    "## Importing dependency \n",
    "\n",
    "import numpy as np\n",
    "import pandas as pd\n",
    "import os\n",
    "import seaborn as sns\n",
    "import matplotlib.pyplot as plt\n",
    "%matplotlib inline\n",
    "\n",
    "## log to run multiple instances of tf --> Found on Stackoverflow. \n",
    "os.environ['KMP_DUPLICATE_LIB_OK']='True'"
   ]
  },
  {
   "cell_type": "code",
   "execution_count": 23,
   "metadata": {
    "colab": {},
    "colab_type": "code",
    "id": "12kPa1Ns5hgU"
   },
   "outputs": [],
   "source": [
    "## Upper and lower are the limits for the prime\n",
    "\n",
    "lower = 1\n",
    "upper = 1000\n",
    "\n",
    "prime_list = []\n",
    "\n",
    "## Listing Prime numbers\n",
    "for num in range(lower,upper + 1):\n",
    "   if num > 1:\n",
    "       for i in range(2,num):\n",
    "           if (num % i) == 0:\n",
    "               break\n",
    "       else:\n",
    "            prime_list.append(num)"
   ]
  },
  {
   "cell_type": "code",
   "execution_count": 24,
   "metadata": {
    "colab": {},
    "colab_type": "code",
    "id": "DBTclK6O5hgd"
   },
   "outputs": [],
   "source": [
    "df = pd.DataFrame({\"prime\":prime_list})"
   ]
  },
  {
   "cell_type": "code",
   "execution_count": 25,
   "metadata": {
    "colab": {
     "base_uri": "https://localhost:8080/",
     "height": 119
    },
    "colab_type": "code",
    "id": "Y8bF4jkV5hgj",
    "outputId": "d31cbc6f-652a-4ab1-ad55-68e514cb860d"
   },
   "outputs": [
    {
     "name": "stdout",
     "output_type": "stream",
     "text": [
      "<class 'pandas.core.frame.DataFrame'>\n",
      "RangeIndex: 168 entries, 0 to 167\n",
      "Data columns (total 1 columns):\n",
      "prime    168 non-null int64\n",
      "dtypes: int64(1)\n",
      "memory usage: 1.4 KB\n"
     ]
    }
   ],
   "source": [
    "df.info()"
   ]
  },
  {
   "cell_type": "code",
   "execution_count": 26,
   "metadata": {},
   "outputs": [
    {
     "data": {
      "image/png": "[encoded data removed]",
      "text/plain": [
       "<Figure size 432x288 with 1 Axes>"
      ]
     },
     "metadata": {
      "needs_background": "light"
     },
     "output_type": "display_data"
    }
   ],
   "source": [
    "## Plot prime numbers\n",
    "sns.lineplot(x = df.prime, y= df.index)\n",
    "sns.set_style(\"darkgrid\")"
   ]
  },
  {
   "cell_type": "code",
   "execution_count": 27,
   "metadata": {
    "colab": {},
    "colab_type": "code",
    "id": "0FLrV_hc5hgy"
   },
   "outputs": [],
   "source": [
    "train_set = df.head(156)\n",
    "test_set = df.tail(12)"
   ]
  },
  {
   "cell_type": "code",
   "execution_count": 28,
   "metadata": {
    "colab": {},
    "colab_type": "code",
    "id": "EshYvlbx5hg1"
   },
   "outputs": [
    {
     "name": "stderr",
     "output_type": "stream",
     "text": [
      "/anaconda3/lib/python3.6/site-packages/sklearn/preprocessing/data.py:323: DataConversionWarning: Data with input dtype int64 were all converted to float64 by MinMaxScaler.\n",
      "  return self.partial_fit(X, y)\n"
     ]
    }
   ],
   "source": [
    "## Scaling Data  \n",
    "from sklearn.preprocessing import MinMaxScaler\n",
    "scaler = MinMaxScaler()\n",
    "train_scaled = scaler.fit_transform(train_set)\n",
    "test_scaled = scaler.transform(test_set)"
   ]
  },
  {
   "cell_type": "code",
   "execution_count": 29,
   "metadata": {
    "colab": {},
    "colab_type": "code",
    "id": "_63M7jF85hg4"
   },
   "outputs": [],
   "source": [
    "## Helper function to feed_in next batches\n",
    "def next_batch(training_data,batch_size,steps):\n",
    "    rand_start = np.random.randint(0,len(training_data)-steps) \n",
    "    y_batch = np.array(training_data[rand_start:rand_start+steps+1]).reshape(1,steps+1)\n",
    "    return y_batch[:, :-1].reshape(-1, steps, 1), y_batch[:, 1:].reshape(-1, steps, 1) "
   ]
  },
  {
   "cell_type": "code",
   "execution_count": 30,
   "metadata": {
    "colab": {},
    "colab_type": "code",
    "id": "FCYnWo0Y5hg7"
   },
   "outputs": [],
   "source": [
    "## Testing with the API based tf Model\n",
    "import tensorflow as tf"
   ]
  },
  {
   "cell_type": "code",
   "execution_count": 31,
   "metadata": {
    "colab": {},
    "colab_type": "code",
    "id": "plo_jzVB5hg9"
   },
   "outputs": [],
   "source": [
    "## Parameters for testing\n",
    "num_inputs = 1\n",
    "num_time_steps = 12\n",
    "num_neurons = 100\n",
    "num_outputs = 1\n",
    "learning_rate = 0.005\n",
    "num_train_iterations = 7000\n",
    "batch_size = 1"
   ]
  },
  {
   "cell_type": "code",
   "execution_count": 32,
   "metadata": {
    "colab": {},
    "colab_type": "code",
    "id": "CjcpUOfZ5hhA"
   },
   "outputs": [],
   "source": [
    "X = tf.placeholder(tf.float32, [None, num_time_steps, num_inputs])\n",
    "y = tf.placeholder(tf.float32, [None, num_time_steps, num_outputs])"
   ]
  },
  {
   "cell_type": "code",
   "execution_count": 33,
   "metadata": {
    "colab": {
     "base_uri": "https://localhost:8080/",
     "height": 68
    },
    "colab_type": "code",
    "id": "unUy2TSX5hhB",
    "outputId": "0537a8da-9b21-4ad8-f09c-df990105fcd4"
   },
   "outputs": [
    {
     "name": "stdout",
     "output_type": "stream",
     "text": [
      "WARNING:tensorflow:From <ipython-input-33-c62615d9b55c>:2: BasicLSTMCell.__init__ (from tensorflow.python.ops.rnn_cell_impl) is deprecated and will be removed in a future version.\n",
      "Instructions for updating:\n",
      "This class is deprecated, please use tf.nn.rnn_cell.LSTMCell, which supports all the feature this cell currently has. Please replace the existing code with tf.nn.rnn_cell.LSTMCell(name='basic_lstm_cell').\n"
     ]
    }
   ],
   "source": [
    "cell = tf.contrib.rnn.OutputProjectionWrapper(\n",
    "    tf.contrib.rnn.BasicLSTMCell(num_units=num_neurons, activation=tf.nn.relu),\n",
    "    output_size=num_outputs) "
   ]
  },
  {
   "cell_type": "code",
   "execution_count": 34,
   "metadata": {
    "colab": {},
    "colab_type": "code",
    "id": "zOABQ6WQ5hhD"
   },
   "outputs": [],
   "source": [
    "outputs, states = tf.nn.dynamic_rnn(cell, X, dtype=tf.float32)"
   ]
  },
  {
   "cell_type": "code",
   "execution_count": 35,
   "metadata": {
    "colab": {},
    "colab_type": "code",
    "id": "-VwmkinX5hhF"
   },
   "outputs": [],
   "source": [
    "# MSE\n",
    "loss = tf.reduce_mean(tf.square(outputs - y))\n",
    "optimizer = tf.train.AdamOptimizer(learning_rate=learning_rate)\n",
    "train = optimizer.minimize(loss)"
   ]
  },
  {
   "cell_type": "code",
   "execution_count": 36,
   "metadata": {
    "colab": {},
    "colab_type": "code",
    "id": "32VSss6x5hhH"
   },
   "outputs": [],
   "source": [
    "init = tf.global_variables_initializer()"
   ]
  },
  {
   "cell_type": "code",
   "execution_count": 37,
   "metadata": {
    "colab": {},
    "colab_type": "code",
    "id": "GVkH_qFC5hhJ"
   },
   "outputs": [],
   "source": [
    "saver = tf.train.Saver()"
   ]
  },
  {
   "cell_type": "code",
   "execution_count": 38,
   "metadata": {
    "colab": {},
    "colab_type": "code",
    "id": "e7hcPIQy5hhL"
   },
   "outputs": [],
   "source": [
    "## running GPU resources\n",
    "gpu_options = tf.GPUOptions(per_process_gpu_memory_fraction=0.9)"
   ]
  },
  {
   "cell_type": "code",
   "execution_count": 39,
   "metadata": {
    "colab": {
     "base_uri": "https://localhost:8080/",
     "height": 1207
    },
    "colab_type": "code",
    "id": "QmXqQ4wh5hhN",
    "outputId": "1ea0f8d7-80a5-4f16-cc77-f5f000d8a8a7"
   },
   "outputs": [
    {
     "name": "stdout",
     "output_type": "stream",
     "text": [
      "0 \tMSE: 0.28170776\n",
      "100 \tMSE: 0.0019001622\n",
      "200 \tMSE: 0.00023359207\n",
      "300 \tMSE: 0.00040987157\n",
      "400 \tMSE: 0.00034401318\n",
      "500 \tMSE: 0.00018481426\n",
      "600 \tMSE: 5.7245983e-05\n",
      "700 \tMSE: 2.2254682e-05\n",
      "800 \tMSE: 5.0698436e-05\n",
      "900 \tMSE: 5.3059597e-05\n",
      "1000 \tMSE: 3.4393986e-05\n",
      "1100 \tMSE: 0.00011679282\n",
      "1200 \tMSE: 0.00015712735\n",
      "1300 \tMSE: 4.0008847e-05\n",
      "1400 \tMSE: 6.163367e-06\n",
      "1500 \tMSE: 3.080837e-05\n",
      "1600 \tMSE: 1.419891e-05\n",
      "1700 \tMSE: 4.2314496e-05\n",
      "1800 \tMSE: 1.9769881e-05\n",
      "1900 \tMSE: 4.272532e-06\n",
      "2000 \tMSE: 0.00031001132\n",
      "2100 \tMSE: 1.8147526e-05\n",
      "2200 \tMSE: 0.00014573871\n",
      "2300 \tMSE: 0.0002492268\n",
      "2400 \tMSE: 2.1995307e-05\n",
      "2500 \tMSE: 9.49281e-06\n",
      "2600 \tMSE: 2.3428858e-05\n",
      "2700 \tMSE: 3.227368e-06\n",
      "2800 \tMSE: 1.17515365e-05\n",
      "2900 \tMSE: 8.569098e-06\n",
      "3000 \tMSE: 1.9138815e-05\n",
      "3100 \tMSE: 2.1279398e-05\n",
      "3200 \tMSE: 1.9994482e-05\n",
      "3300 \tMSE: 1.612017e-05\n",
      "3400 \tMSE: 1.0067801e-05\n",
      "3500 \tMSE: 2.482499e-05\n",
      "3600 \tMSE: 2.6547326e-05\n",
      "3700 \tMSE: 9.646196e-06\n",
      "3800 \tMSE: 2.8222383e-05\n",
      "3900 \tMSE: 2.1988873e-05\n",
      "4000 \tMSE: 6.763579e-05\n",
      "4100 \tMSE: 2.5501242e-05\n",
      "4200 \tMSE: 0.00023830985\n",
      "4300 \tMSE: 2.983245e-05\n",
      "4400 \tMSE: 2.99995e-05\n",
      "4500 \tMSE: 4.8298552e-05\n",
      "4600 \tMSE: 0.0002436289\n",
      "4700 \tMSE: 2.9245131e-05\n",
      "4800 \tMSE: 3.9422608e-05\n",
      "4900 \tMSE: 1.8902361e-05\n",
      "5000 \tMSE: 5.537448e-06\n",
      "5100 \tMSE: 2.9482508e-05\n",
      "5200 \tMSE: 8.5880165e-06\n",
      "5300 \tMSE: 1.3648649e-05\n",
      "5400 \tMSE: 1.91061e-05\n",
      "5500 \tMSE: 1.8689587e-05\n",
      "5600 \tMSE: 7.293782e-06\n",
      "5700 \tMSE: 7.928878e-05\n",
      "5800 \tMSE: 2.6556174e-05\n",
      "5900 \tMSE: 1.1595658e-05\n",
      "6000 \tMSE: 2.0587067e-05\n",
      "6100 \tMSE: 0.0033841121\n",
      "6200 \tMSE: 3.047706e-05\n",
      "6300 \tMSE: 9.8829305e-06\n",
      "6400 \tMSE: 2.5642286e-05\n",
      "6500 \tMSE: 6.316756e-06\n",
      "6600 \tMSE: 5.188751e-06\n",
      "6700 \tMSE: 0.0014953731\n",
      "6800 \tMSE: 1.1639939e-05\n",
      "6900 \tMSE: 1.5912765e-05\n"
     ]
    }
   ],
   "source": [
    "with tf.Session(config=tf.ConfigProto(gpu_options=gpu_options)) as sess:\n",
    "    sess.run(init)\n",
    "    \n",
    "    for iteration in range(num_train_iterations):\n",
    "        \n",
    "        X_batch, y_batch = next_batch(train_scaled,batch_size,num_time_steps)\n",
    "        sess.run(train, feed_dict={X: X_batch, y: y_batch})\n",
    "        \n",
    "        if iteration % 100 == 0:\n",
    "            \n",
    "            mse = loss.eval(feed_dict={X: X_batch, y: y_batch})\n",
    "            print(iteration, \"\\tMSE:\", mse)\n",
    "    \n",
    "    ## Save Model for Later\n",
    "    saver.save(sess, \"./ex_time_series_model\")"
   ]
  },
  {
   "cell_type": "code",
   "execution_count": 40,
   "metadata": {
    "colab": {
     "base_uri": "https://localhost:8080/",
     "height": 421
    },
    "colab_type": "code",
    "id": "W3WwbclR5hhQ",
    "outputId": "6af77d4c-5eb0-438c-8c02-aa1cbc339044"
   },
   "outputs": [
    {
     "data": {
      "text/html": [
       "<div>\n",
       "<style scoped>\n",
       "    .dataframe tbody tr th:only-of-type {\n",
       "        vertical-align: middle;\n",
       "    }\n",
       "\n",
       "    .dataframe tbody tr th {\n",
       "        vertical-align: top;\n",
       "    }\n",
       "\n",
       "    .dataframe thead th {\n",
       "        text-align: right;\n",
       "    }\n",
       "</style>\n",
       "<table border=\"1\" class=\"dataframe\">\n",
       "  <thead>\n",
       "    <tr style=\"text-align: right;\">\n",
       "      <th></th>\n",
       "      <th>prime</th>\n",
       "    </tr>\n",
       "  </thead>\n",
       "  <tbody>\n",
       "    <tr>\n",
       "      <th>156</th>\n",
       "      <td>919</td>\n",
       "    </tr>\n",
       "    <tr>\n",
       "      <th>157</th>\n",
       "      <td>929</td>\n",
       "    </tr>\n",
       "    <tr>\n",
       "      <th>158</th>\n",
       "      <td>937</td>\n",
       "    </tr>\n",
       "    <tr>\n",
       "      <th>159</th>\n",
       "      <td>941</td>\n",
       "    </tr>\n",
       "    <tr>\n",
       "      <th>160</th>\n",
       "      <td>947</td>\n",
       "    </tr>\n",
       "    <tr>\n",
       "      <th>161</th>\n",
       "      <td>953</td>\n",
       "    </tr>\n",
       "    <tr>\n",
       "      <th>162</th>\n",
       "      <td>967</td>\n",
       "    </tr>\n",
       "    <tr>\n",
       "      <th>163</th>\n",
       "      <td>971</td>\n",
       "    </tr>\n",
       "    <tr>\n",
       "      <th>164</th>\n",
       "      <td>977</td>\n",
       "    </tr>\n",
       "    <tr>\n",
       "      <th>165</th>\n",
       "      <td>983</td>\n",
       "    </tr>\n",
       "    <tr>\n",
       "      <th>166</th>\n",
       "      <td>991</td>\n",
       "    </tr>\n",
       "    <tr>\n",
       "      <th>167</th>\n",
       "      <td>997</td>\n",
       "    </tr>\n",
       "  </tbody>\n",
       "</table>\n",
       "</div>"
      ],
      "text/plain": [
       "     prime\n",
       "156    919\n",
       "157    929\n",
       "158    937\n",
       "159    941\n",
       "160    947\n",
       "161    953\n",
       "162    967\n",
       "163    971\n",
       "164    977\n",
       "165    983\n",
       "166    991\n",
       "167    997"
      ]
     },
     "execution_count": 40,
     "metadata": {},
     "output_type": "execute_result"
    }
   ],
   "source": [
    "test_set"
   ]
  },
  {
   "cell_type": "code",
   "execution_count": 41,
   "metadata": {
    "colab": {
     "base_uri": "https://localhost:8080/",
     "height": 34
    },
    "colab_type": "code",
    "id": "RaumQdJB5hhT",
    "outputId": "ec54c2fd-6b59-446e-fc30-45b165fc6703"
   },
   "outputs": [
    {
     "name": "stdout",
     "output_type": "stream",
     "text": [
      "INFO:tensorflow:Restoring parameters from ./ex_time_series_model\n"
     ]
    }
   ],
   "source": [
    "with tf.Session() as sess:\n",
    "    \n",
    "    ## Use your Saver instance to restore your saved rnn time series model\n",
    "    saver.restore(sess, \"./ex_time_series_model\")\n",
    "\n",
    "    ## Create a numpy array for your genreative seed from the last 12 months of the \n",
    "    train_seed = list(train_scaled[-12:])\n",
    "    \n",
    "    ## Now create a for loop that \n",
    "    for iteration in range(12):\n",
    "        X_batch = np.array(train_seed[-num_time_steps:]).reshape(1, num_time_steps, 1)\n",
    "        y_pred = sess.run(outputs, feed_dict={X: X_batch})\n",
    "        train_seed.append(y_pred[0, -1, 0])"
   ]
  },
  {
   "cell_type": "code",
   "execution_count": 42,
   "metadata": {
    "colab": {
     "base_uri": "https://localhost:8080/",
     "height": 425
    },
    "colab_type": "code",
    "id": "XsKPINn75hhV",
    "outputId": "861eaa41-cba7-41ce-dda3-968a9f4e858e"
   },
   "outputs": [
    {
     "data": {
      "text/plain": [
       "[array([0.90979098]),\n",
       " array([0.92079208]),\n",
       " array([0.93619362]),\n",
       " array([0.94059406]),\n",
       " array([0.94279428]),\n",
       " array([0.94719472]),\n",
       " array([0.96259626]),\n",
       " array([0.9669967]),\n",
       " array([0.96919692]),\n",
       " array([0.97359736]),\n",
       " array([0.99559956]),\n",
       " array([1.]),\n",
       " 1.0055683,\n",
       " 1.0106401,\n",
       " 1.0162234,\n",
       " 1.0218161,\n",
       " 1.0274401,\n",
       " 1.0330883,\n",
       " 1.038779,\n",
       " 1.044478,\n",
       " 1.050178,\n",
       " 1.0558826,\n",
       " 1.0616297,\n",
       " 1.0673715]"
      ]
     },
     "execution_count": 42,
     "metadata": {},
     "output_type": "execute_result"
    }
   ],
   "source": [
    "train_seed"
   ]
  },
  {
   "cell_type": "code",
   "execution_count": 43,
   "metadata": {
    "colab": {},
    "colab_type": "code",
    "id": "GrIFwdSM5hhY"
   },
   "outputs": [],
   "source": [
    "results = scaler.inverse_transform(np.array(train_seed[12:]).reshape(12,1))"
   ]
  },
  {
   "cell_type": "code",
   "execution_count": 44,
   "metadata": {
    "colab": {
     "base_uri": "https://localhost:8080/",
     "height": 119
    },
    "colab_type": "code",
    "id": "8zZbJUi65hhZ",
    "outputId": "900201dc-be55-48d1-d05c-24e0c9704919"
   },
   "outputs": [
    {
     "name": "stderr",
     "output_type": "stream",
     "text": [
      "/anaconda3/lib/python3.6/site-packages/ipykernel_launcher.py:1: SettingWithCopyWarning: \n",
      "A value is trying to be set on a copy of a slice from a DataFrame.\n",
      "Try using .loc[row_indexer,col_indexer] = value instead\n",
      "\n",
      "See the caveats in the documentation: http://pandas.pydata.org/pandas-docs/stable/indexing.html#indexing-view-versus-copy\n",
      "  \"\"\"Entry point for launching an IPython kernel.\n"
     ]
    }
   ],
   "source": [
    "test_set['Generated'] = results"
   ]
  },
  {
   "cell_type": "code",
   "execution_count": 45,
   "metadata": {
    "colab": {
     "base_uri": "https://localhost:8080/",
     "height": 421
    },
    "colab_type": "code",
    "id": "JjxiGVis5hhb",
    "outputId": "d569ffe8-65e3-4835-83d7-dfaa46a117ec"
   },
   "outputs": [
    {
     "data": {
      "text/html": [
       "<div>\n",
       "<style scoped>\n",
       "    .dataframe tbody tr th:only-of-type {\n",
       "        vertical-align: middle;\n",
       "    }\n",
       "\n",
       "    .dataframe tbody tr th {\n",
       "        vertical-align: top;\n",
       "    }\n",
       "\n",
       "    .dataframe thead th {\n",
       "        text-align: right;\n",
       "    }\n",
       "</style>\n",
       "<table border=\"1\" class=\"dataframe\">\n",
       "  <thead>\n",
       "    <tr style=\"text-align: right;\">\n",
       "      <th></th>\n",
       "      <th>prime</th>\n",
       "      <th>Generated</th>\n",
       "    </tr>\n",
       "  </thead>\n",
       "  <tbody>\n",
       "    <tr>\n",
       "      <th>156</th>\n",
       "      <td>919</td>\n",
       "      <td>916.061584</td>\n",
       "    </tr>\n",
       "    <tr>\n",
       "      <th>157</th>\n",
       "      <td>929</td>\n",
       "      <td>920.671936</td>\n",
       "    </tr>\n",
       "    <tr>\n",
       "      <th>158</th>\n",
       "      <td>937</td>\n",
       "      <td>925.747131</td>\n",
       "    </tr>\n",
       "    <tr>\n",
       "      <th>159</th>\n",
       "      <td>941</td>\n",
       "      <td>930.830872</td>\n",
       "    </tr>\n",
       "    <tr>\n",
       "      <th>160</th>\n",
       "      <td>947</td>\n",
       "      <td>935.943054</td>\n",
       "    </tr>\n",
       "    <tr>\n",
       "      <th>161</th>\n",
       "      <td>953</td>\n",
       "      <td>941.077332</td>\n",
       "    </tr>\n",
       "    <tr>\n",
       "      <th>162</th>\n",
       "      <td>967</td>\n",
       "      <td>946.250183</td>\n",
       "    </tr>\n",
       "    <tr>\n",
       "      <th>163</th>\n",
       "      <td>971</td>\n",
       "      <td>951.430603</td>\n",
       "    </tr>\n",
       "    <tr>\n",
       "      <th>164</th>\n",
       "      <td>977</td>\n",
       "      <td>956.611877</td>\n",
       "    </tr>\n",
       "    <tr>\n",
       "      <th>165</th>\n",
       "      <td>983</td>\n",
       "      <td>961.797302</td>\n",
       "    </tr>\n",
       "    <tr>\n",
       "      <th>166</th>\n",
       "      <td>991</td>\n",
       "      <td>967.021362</td>\n",
       "    </tr>\n",
       "    <tr>\n",
       "      <th>167</th>\n",
       "      <td>997</td>\n",
       "      <td>972.240723</td>\n",
       "    </tr>\n",
       "  </tbody>\n",
       "</table>\n",
       "</div>"
      ],
      "text/plain": [
       "     prime   Generated\n",
       "156    919  916.061584\n",
       "157    929  920.671936\n",
       "158    937  925.747131\n",
       "159    941  930.830872\n",
       "160    947  935.943054\n",
       "161    953  941.077332\n",
       "162    967  946.250183\n",
       "163    971  951.430603\n",
       "164    977  956.611877\n",
       "165    983  961.797302\n",
       "166    991  967.021362\n",
       "167    997  972.240723"
      ]
     },
     "execution_count": 45,
     "metadata": {},
     "output_type": "execute_result"
    }
   ],
   "source": [
    "test_set"
   ]
  },
  {
   "cell_type": "code",
   "execution_count": 46,
   "metadata": {
    "colab": {
     "base_uri": "https://localhost:8080/",
     "height": 500
    },
    "colab_type": "code",
    "id": "T6L_23sD5hhd",
    "outputId": "1e97d163-4031-47b6-856b-50aa2e4bc915"
   },
   "outputs": [
    {
     "data": {
      "text/plain": [
       "<matplotlib.axes._subplots.AxesSubplot at 0x24423006a0>"
      ]
     },
     "execution_count": 46,
     "metadata": {},
     "output_type": "execute_result"
    },
    {
     "data": {
      "image/png": "[encoded data removed]",
      "text/plain": [
       "<Figure size 864x576 with 1 Axes>"
      ]
     },
     "metadata": {},
     "output_type": "display_data"
    }
   ],
   "source": [
    "test_set.plot(figsize=(12,8))"
   ]
  },
  {
   "cell_type": "code",
   "execution_count": 47,
   "metadata": {
    "colab": {},
    "colab_type": "code",
    "id": "mTFnblDK5hhg"
   },
   "outputs": [],
   "source": [
    "from sklearn.metrics import mean_squared_error"
   ]
  },
  {
   "cell_type": "code",
   "execution_count": 48,
   "metadata": {
    "colab": {
     "base_uri": "https://localhost:8080/",
     "height": 34
    },
    "colab_type": "code",
    "id": "uNS1eEZi8I7s",
    "outputId": "a4de4db7-bf33-457e-994d-bec4654facbc"
   },
   "outputs": [
    {
     "name": "stdout",
     "output_type": "stream",
     "text": [
      "Mean squared Error:286.59818727709353\n"
     ]
    }
   ],
   "source": [
    "mse = mean_squared_error(df.prime[-12:], test_set.Generated[-12:])\n",
    "print(\"Mean squared Error:\"+ str(mse))"
   ]
  }
 ],
 "metadata": {
  "accelerator": "GPU",
  "colab": {
   "name": "Prime_LSTM.ipynb",
   "provenance": [],
   "version": "0.3.2"
  },
  "kernelspec": {
   "display_name": "Python 3",
   "language": "python",
   "name": "python3"
  },
  "language_info": {
   "codemirror_mode": {
    "name": "ipython",
    "version": 3
   },
   "file_extension": ".py",
   "mimetype": "text/x-python",
   "name": "python",
   "nbconvert_exporter": "python",
   "pygments_lexer": "ipython3",
   "version": "3.6.6"
  }
 },
 "nbformat": 4,
 "nbformat_minor": 1
}
